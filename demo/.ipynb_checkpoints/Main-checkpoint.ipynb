{
 "cells": [
  {
   "cell_type": "code",
   "execution_count": 2,
   "metadata": {},
   "outputs": [],
   "source": [
    "import torch\n",
    "import torch.nn as nn\n",
    "import torch.optim as optim\n",
    "import torchvision.transforms as transforms\n",
    "import torchvision.datasets as datasets\n",
    "from torch.utils.data import DataLoader\n",
    "import time\n",
    "import matplotlib.pyplot as plt"
   ]
  },
  {
   "cell_type": "code",
   "execution_count": 3,
   "metadata": {},
   "outputs": [],
   "source": [
    "# Device configuration\n",
    "device = torch.device(\"cuda\" if torch.cuda.is_available() else \"cpu\")"
   ]
  },
  {
   "cell_type": "code",
   "execution_count": 4,
   "metadata": {},
   "outputs": [],
   "source": [
    "# Define data transformations\n",
    "data_transforms = {\n",
    "    'train': transforms.Compose([\n",
    "        transforms.Resize((224, 224)),\n",
    "        transforms.RandomHorizontalFlip(),\n",
    "        transforms.RandomRotation(10),\n",
    "        transforms.ToTensor(),\n",
    "        transforms.Normalize([0.5], [0.5])\n",
    "    ]),\n",
    "    'test': transforms.Compose([\n",
    "        transforms.Resize((224, 224)),\n",
    "        transforms.ToTensor(),\n",
    "        transforms.Normalize([0.5], [0.5])\n",
    "    ])\n",
    "}\n"
   ]
  },
  {
   "cell_type": "code",
   "execution_count": 5,
   "metadata": {},
   "outputs": [],
   "source": [
    "# Load datasets\n",
    "data_dir = \"D:/MLUP Proejct/Alzheimer_s Dataset\"\n",
    "train_dataset = datasets.ImageFolder(root=f\"{data_dir}/train\", transform=data_transforms['train'])\n",
    "test_dataset = datasets.ImageFolder(root=f\"{data_dir}/test\", transform=data_transforms['test'])\n",
    "\n",
    "train_loader = DataLoader(train_dataset, batch_size=32, shuffle=True, num_workers=4)\n",
    "test_loader = DataLoader(test_dataset, batch_size=32, shuffle=False, num_workers=4)\n"
   ]
  },
  {
   "cell_type": "code",
   "execution_count": 6,
   "metadata": {},
   "outputs": [],
   "source": [
    "# Define CNN Model\n",
    "class CustomCNN(nn.Module):\n",
    "    def __init__(self):\n",
    "        super(CustomCNN, self).__init__()\n",
    "        self.conv_layers = nn.Sequential(\n",
    "            nn.Conv2d(3, 32, kernel_size=3, padding=1),\n",
    "            nn.ReLU(),\n",
    "            nn.MaxPool2d(kernel_size=2),\n",
    "            \n",
    "            nn.Conv2d(32, 64, kernel_size=3, padding=1),\n",
    "            nn.ReLU(),\n",
    "            nn.MaxPool2d(kernel_size=2),\n",
    "            \n",
    "            nn.Conv2d(64, 128, kernel_size=3, padding=1),\n",
    "            nn.ReLU(),\n",
    "            nn.MaxPool2d(kernel_size=2),\n",
    "        )\n",
    "        self.fc_layers = nn.Sequential(\n",
    "            nn.Linear(128 * 28 * 28, 512),  # Ensure correct input size\n",
    "            nn.ReLU(),\n",
    "            nn.Dropout(0.5),\n",
    "            nn.Linear(512, 4)  # Output 4 classes\n",
    "        )\n",
    "    \n",
    "    def forward(self, x):\n",
    "        x = self.conv_layers(x)\n",
    "        x = x.view(x.size(0), -1)  # Flatten\n",
    "        x = self.fc_layers(x)\n",
    "        return x\n"
   ]
  },
  {
   "cell_type": "code",
   "execution_count": 7,
   "metadata": {},
   "outputs": [],
   "source": [
    "# Initialize model, loss, optimizer\n",
    "model = CustomCNN().to(device)\n",
    "criterion = nn.CrossEntropyLoss()\n",
    "optimizer = optim.Adam(model.parameters(), lr=0.001)\n",
    "scheduler = optim.lr_scheduler.StepLR(optimizer, step_size=10, gamma=0.1)"
   ]
  },
  {
   "cell_type": "code",
   "execution_count": 8,
   "metadata": {},
   "outputs": [],
   "source": [
    "# Training function\n",
    "def train_model(model, train_loader, criterion, optimizer, scheduler, num_epochs=25):\n",
    "    model.train()\n",
    "    best_accuracy = 0.0\n",
    "    train_loss = []\n",
    "    train_acc = []\n",
    "\n",
    "    for epoch in range(num_epochs):\n",
    "        start_time = time.time()\n",
    "        running_loss = 0.0\n",
    "        correct = 0\n",
    "        total = 0\n",
    "        \n",
    "        for images, labels in train_loader:\n",
    "            images, labels = images.to(device), labels.to(device)\n",
    "            optimizer.zero_grad()\n",
    "            outputs = model(images)\n",
    "            loss = criterion(outputs, labels)\n",
    "            loss.backward()\n",
    "            optimizer.step()\n",
    "            \n",
    "            running_loss += loss.item()\n",
    "            _, predicted = outputs.max(1)\n",
    "            correct += (predicted == labels).sum().item()\n",
    "            total += labels.size(0)\n",
    "        \n",
    "        scheduler.step()\n",
    "        epoch_loss = running_loss / len(train_loader)\n",
    "        epoch_acc = 100 * correct / total\n",
    "\n",
    "        train_loss.append(epoch_loss)\n",
    "        train_acc.append(epoch_acc)\n",
    "\n",
    "        print(f\"Epoch [{epoch+1}/{num_epochs}], Loss: {epoch_loss:.4f}, Accuracy: {epoch_acc:.2f}%, Time: {time.time()-start_time:.2f}s\")\n",
    "        \n",
    "        # Save the best model\n",
    "        if epoch_acc > best_accuracy:\n",
    "            best_accuracy = epoch_acc\n",
    "            torch.save(model.state_dict(), 'best_model.pth')\n",
    "\n",
    "    # Save the final trained model\n",
    "    torch.save(model.state_dict(), 'final_model.pth')\n",
    "    torch.save(optimizer.state_dict(), 'optimizer.pth')  # Save optimizer state\n",
    "\n",
    "    print(\"Training Complete. Best Accuracy: {:.2f}%\".format(best_accuracy))\n",
    "    print(\"Final model and optimizer state saved.\")\n",
    "\n",
    "    plot_training_curves(train_loss, train_acc)\n"
   ]
  },
  {
   "cell_type": "code",
   "execution_count": 9,
   "metadata": {},
   "outputs": [],
   "source": [
    "    # FIX: Call plot_training_curves here, NOT in evaluate_model\n",
    "    #plot_training_curves(train_loss, train_acc)"
   ]
  },
  {
   "cell_type": "code",
   "execution_count": 10,
   "metadata": {},
   "outputs": [],
   "source": [
    "# Evaluate model\n",
    "def evaluate_model(model, test_loader):\n",
    "    model.eval()\n",
    "    correct = 0\n",
    "    total = 0\n",
    "    with torch.no_grad():\n",
    "        for images, labels in test_loader:\n",
    "            images, labels = images.to(device), labels.to(device)\n",
    "            outputs = model(images)\n",
    "            _, predicted = outputs.max(1)\n",
    "            correct += (predicted == labels).sum().item()\n",
    "            total += labels.size(0)\n",
    "    \n",
    "    accuracy = 100 * correct / total\n",
    "    print(f\"Test Accuracy: {accuracy:.2f}%\")"
   ]
  },
  {
   "cell_type": "code",
   "execution_count": 11,
   "metadata": {},
   "outputs": [
    {
     "name": "stdout",
     "output_type": "stream",
     "text": [
      "Epoch [1/25], Loss: 1.0745, Accuracy: 49.52%, Time: 54.18s\n",
      "Epoch [2/25], Loss: 0.9515, Accuracy: 53.78%, Time: 56.72s\n",
      "Epoch [3/25], Loss: 0.9069, Accuracy: 56.24%, Time: 55.47s\n",
      "Epoch [4/25], Loss: 0.8665, Accuracy: 58.25%, Time: 57.86s\n",
      "Epoch [5/25], Loss: 0.8230, Accuracy: 60.24%, Time: 49.80s\n",
      "Epoch [6/25], Loss: 0.7686, Accuracy: 64.62%, Time: 50.03s\n",
      "Epoch [7/25], Loss: 0.7217, Accuracy: 65.79%, Time: 53.24s\n",
      "Epoch [8/25], Loss: 0.6618, Accuracy: 69.21%, Time: 57.84s\n",
      "Epoch [9/25], Loss: 0.5880, Accuracy: 73.87%, Time: 57.54s\n",
      "Epoch [10/25], Loss: 0.5702, Accuracy: 76.57%, Time: 59.41s\n",
      "Epoch [11/25], Loss: 0.4493, Accuracy: 80.88%, Time: 53.58s\n",
      "Epoch [12/25], Loss: 0.4044, Accuracy: 83.09%, Time: 53.50s\n",
      "Epoch [13/25], Loss: 0.3951, Accuracy: 83.38%, Time: 56.13s\n",
      "Epoch [14/25], Loss: 0.3715, Accuracy: 85.06%, Time: 60.38s\n",
      "Epoch [15/25], Loss: 0.3703, Accuracy: 84.73%, Time: 182.25s\n",
      "Epoch [16/25], Loss: 0.3448, Accuracy: 86.06%, Time: 49.49s\n",
      "Epoch [17/25], Loss: 0.3469, Accuracy: 85.41%, Time: 61.97s\n",
      "Epoch [18/25], Loss: 0.3345, Accuracy: 86.72%, Time: 54.18s\n",
      "Epoch [19/25], Loss: 0.3113, Accuracy: 87.70%, Time: 58.49s\n",
      "Epoch [20/25], Loss: 0.3068, Accuracy: 87.44%, Time: 43.94s\n",
      "Epoch [21/25], Loss: 0.2686, Accuracy: 89.63%, Time: 42.16s\n",
      "Epoch [22/25], Loss: 0.2936, Accuracy: 88.91%, Time: 41.25s\n",
      "Epoch [23/25], Loss: 0.2910, Accuracy: 88.58%, Time: 41.09s\n",
      "Epoch [24/25], Loss: 0.2868, Accuracy: 88.91%, Time: 41.76s\n",
      "Epoch [25/25], Loss: 0.2789, Accuracy: 89.51%, Time: 43.36s\n",
      "Training Complete. Best Accuracy: 89.63%\n",
      "Final model and optimizer state saved.\n"
     ]
    },
    {
     "data": {
      "image/png": "[encoded data removed]",
      "text/plain": [
       "<Figure size 1200x500 with 2 Axes>"
      ]
     },
     "metadata": {},
     "output_type": "display_data"
    },
    {
     "name": "stdout",
     "output_type": "stream",
     "text": [
      "Test Accuracy: 62.31%\n"
     ]
    }
   ],
   "source": [
    "\n",
    "# Plot training loss and accuracy\n",
    "def plot_training_curves(train_loss, train_acc):\n",
    "    epochs = range(1, len(train_loss) + 1)\n",
    "\n",
    "    plt.figure(figsize=(12, 5))\n",
    "\n",
    "    # Loss Plot\n",
    "    plt.subplot(1, 2, 1)\n",
    "    plt.plot(epochs, train_loss, 'r-', label=\"Training Loss\")\n",
    "    plt.xlabel(\"Epochs\")\n",
    "    plt.ylabel(\"Loss\")\n",
    "    plt.title(\"Training Loss vs. Epochs\")\n",
    "    plt.legend()\n",
    "\n",
    "    # Accuracy Plot\n",
    "    plt.subplot(1, 2, 2)\n",
    "    plt.plot(epochs, train_acc, 'b-', label=\"Training Accuracy\")\n",
    "    plt.xlabel(\"Epochs\")\n",
    "    plt.ylabel(\"Accuracy (%)\")\n",
    "    plt.title(\"Training Accuracy vs. Epochs\")\n",
    "    plt.legend()\n",
    "\n",
    "    plt.show()\n",
    "\n",
    "# Train and Evaluate\n",
    "train_model(model, train_loader, criterion, optimizer, scheduler, num_epochs=25)\n",
    "evaluate_model(model, test_loader)"
   ]
  }
 ],
 "metadata": {
  "kernelspec": {
   "display_name": "pymlup",
   "language": "python",
   "name": "python3"
  },
  "language_info": {
   "codemirror_mode": {
    "name": "ipython",
    "version": 3
   },
   "file_extension": ".py",
   "mimetype": "text/x-python",
   "name": "python",
   "nbconvert_exporter": "python",
   "pygments_lexer": "ipython3",
   "version": "3.10.13"
  }
 },
 "nbformat": 4,
 "nbformat_minor": 2
}
